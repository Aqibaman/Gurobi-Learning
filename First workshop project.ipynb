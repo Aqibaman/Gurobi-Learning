{
 "cells": [
  {
   "cell_type": "markdown",
   "id": "b6f29d2d-417d-4a64-8f7e-14a277942484",
   "metadata": {},
   "source": [
    "## FIRST PROJECT"
   ]
  },
  {
   "cell_type": "code",
   "execution_count": 2,
   "id": "24eaa8a1-2179-41e3-98a0-949d1a2b3782",
   "metadata": {},
   "outputs": [],
   "source": [
    "# pip install gurobipy"
   ]
  },
  {
   "cell_type": "code",
   "execution_count": 3,
   "id": "20e74779-3f6d-465c-bb91-d3679f5e3259",
   "metadata": {},
   "outputs": [
    {
     "name": "stdout",
     "output_type": "stream",
     "text": [
      "Restricted license - for non-production use only - expires 2026-11-23\n"
     ]
    }
   ],
   "source": [
    "import gurobipy as gp\n",
    "\n",
    "model = gp.Model(\"P1\")"
   ]
  },
  {
   "cell_type": "code",
   "execution_count": 4,
   "id": "8dcb1cdf-0700-4e3c-9b6e-81a309f19c53",
   "metadata": {},
   "outputs": [],
   "source": [
    "#Variables\n",
    "x1 = model.addVar (vtype=gp.GRB.CONTINUOUS, name=\"x1\")\n",
    "x2 = model.addVar (vtype=gp.GRB.CONTINUOUS, name=\"x2\")"
   ]
  },
  {
   "cell_type": "code",
   "execution_count": 5,
   "id": "8dced57e-0b6c-4334-bdd8-1507b191b05b",
   "metadata": {},
   "outputs": [
    {
     "data": {
      "text/plain": [
       "<gurobi.Constr *Awaiting Model Update*>"
      ]
     },
     "execution_count": 5,
     "metadata": {},
     "output_type": "execute_result"
    }
   ],
   "source": [
    "#Obj\n",
    "\n",
    "model.setObjective(20*x1 + 55*x2, gp.GRB.MAXIMIZE)\n",
    "\n",
    "#Const\n",
    "\n",
    "model.addConstr(x1 + 2*x2 <= 14, \"C1\")\n",
    "model.addConstr(3*x1 + 7*x2 <= 21, \"C2\")\n",
    "model.addConstr(2*x1 >= 5, \"C3\")"
   ]
  },
  {
   "cell_type": "code",
   "execution_count": 6,
   "id": "975975f4-d58a-4f09-8d12-8d39c85a6e8e",
   "metadata": {},
   "outputs": [
    {
     "name": "stdout",
     "output_type": "stream",
     "text": [
      "Gurobi Optimizer version 12.0.1 build v12.0.1rc0 (win64 - Windows 10.0 (19045.2))\n",
      "\n",
      "CPU model: 11th Gen Intel(R) Core(TM) i5-1135G7 @ 2.40GHz, instruction set [SSE2|AVX|AVX2|AVX512]\n",
      "Thread count: 4 physical cores, 8 logical processors, using up to 8 threads\n",
      "\n",
      "Optimize a model with 3 rows, 2 columns and 5 nonzeros\n",
      "Model fingerprint: 0x383ec39e\n",
      "Coefficient statistics:\n",
      "  Matrix range     [1e+00, 7e+00]\n",
      "  Objective range  [2e+01, 6e+01]\n",
      "  Bounds range     [0e+00, 0e+00]\n",
      "  RHS range        [5e+00, 2e+01]\n",
      "Presolve removed 3 rows and 2 columns\n",
      "Presolve time: 0.01s\n",
      "Presolve: All rows and columns removed\n",
      "Iteration    Objective       Primal Inf.    Dual Inf.      Time\n",
      "       0    1.5607143e+02   0.000000e+00   0.000000e+00      0s\n",
      "\n",
      "Solved in 0 iterations and 0.01 seconds (0.00 work units)\n",
      "Optimal objective  1.560714286e+02\n"
     ]
    }
   ],
   "source": [
    "# Solve\n",
    "\n",
    "model.optimize()"
   ]
  },
  {
   "cell_type": "code",
   "execution_count": 7,
   "id": "2894af8b-8cdc-4443-8205-6adb047a1517",
   "metadata": {},
   "outputs": [
    {
     "name": "stdout",
     "output_type": "stream",
     "text": [
      "x1= 2.5\n",
      "x2= 1.9285714285714286\n"
     ]
    }
   ],
   "source": [
    "print(\"x1=\", x1.x)\n",
    "print(\"x2=\", x2.x)"
   ]
  }
 ],
 "metadata": {
  "kernelspec": {
   "display_name": "Python [conda env:base] *",
   "language": "python",
   "name": "conda-base-py"
  },
  "language_info": {
   "codemirror_mode": {
    "name": "ipython",
    "version": 3
   },
   "file_extension": ".py",
   "mimetype": "text/x-python",
   "name": "python",
   "nbconvert_exporter": "python",
   "pygments_lexer": "ipython3",
   "version": "3.11.11"
  }
 },
 "nbformat": 4,
 "nbformat_minor": 5
}
