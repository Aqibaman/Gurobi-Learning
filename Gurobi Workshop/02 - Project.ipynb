{
 "cells": [
  {
   "cell_type": "markdown",
   "id": "09ce2bc6-cff1-421c-9b36-2f429a49edc7",
   "metadata": {},
   "source": [
    "## SECOND PROJECT"
   ]
  },
  {
   "cell_type": "code",
   "execution_count": 3,
   "id": "b9071726-4d2f-4226-8e19-b688a335d629",
   "metadata": {},
   "outputs": [],
   "source": [
    "import gurobipy as gp"
   ]
  },
  {
   "cell_type": "code",
   "execution_count": 4,
   "id": "ec62b54f-7ae1-4163-ab2c-d1221246bb0f",
   "metadata": {},
   "outputs": [
    {
     "name": "stdout",
     "output_type": "stream",
     "text": [
      "Restricted license - for non-production use only - expires 2026-11-23\n"
     ]
    }
   ],
   "source": [
    "model = gp.Model(\"P1\")"
   ]
  },
  {
   "cell_type": "code",
   "execution_count": 5,
   "id": "3bd4ec65-803a-4fdf-8614-b8fe4af68ed1",
   "metadata": {},
   "outputs": [],
   "source": [
    "#Sets\n",
    "Supplier = range(1,3) #1,2\n",
    "Retailer = range(1,4) #1,2,3\n",
    "\n",
    "#Par\n",
    "C = [[3,4,1],[2,7,3]]\n",
    "D = [200,350,150]\n",
    "P = [[400],[350]]\n",
    "\n",
    "#Var\n",
    "x = model.addVars (Supplier, Retailer, vtype=gp.GRB.INTEGER, name=\"x\")\n",
    "\n",
    "#Obj\n",
    "model.setObjective(gp.quicksum(C[s-1][r-1]*x[s,r] for s in Supplier for r in Retailer), gp.GRB.MINIMIZE)\n",
    "\n",
    "#Const\n",
    "for r in Retailer:\n",
    "    model.addConstr(gp.quicksum(x[s,r] for s in Supplier) >= D[r-1], \"C1\")\n",
    "for s in Supplier:\n",
    "    model.addConstr(gp.quicksum(x[s,r] for r in Retailer) >= D[s-1], \"C2\")"
   ]
  },
  {
   "cell_type": "code",
   "execution_count": 6,
   "id": "9f6e12b6-4647-49fc-b66c-dd3351d7c371",
   "metadata": {},
   "outputs": [
    {
     "name": "stdout",
     "output_type": "stream",
     "text": [
      "Gurobi Optimizer version 12.0.1 build v12.0.1rc0 (win64 - Windows 10.0 (19045.2))\n",
      "\n",
      "CPU model: 11th Gen Intel(R) Core(TM) i5-1135G7 @ 2.40GHz, instruction set [SSE2|AVX|AVX2|AVX512]\n",
      "Thread count: 4 physical cores, 8 logical processors, using up to 8 threads\n",
      "\n",
      "Optimize a model with 5 rows, 6 columns and 12 nonzeros\n",
      "Model fingerprint: 0x4ae639ec\n",
      "Variable types: 0 continuous, 6 integer (0 binary)\n",
      "Coefficient statistics:\n",
      "  Matrix range     [1e+00, 1e+00]\n",
      "  Objective range  [1e+00, 7e+00]\n",
      "  Bounds range     [0e+00, 0e+00]\n",
      "  RHS range        [2e+02, 4e+02]\n",
      "Found heuristic solution: objective 3050.0000000\n",
      "Presolve time: 0.01s\n",
      "Presolved: 5 rows, 6 columns, 12 nonzeros\n",
      "Variable types: 0 continuous, 6 integer (0 binary)\n",
      "\n",
      "Root relaxation: objective 2.250000e+03, 3 iterations, 0.00 seconds (0.00 work units)\n",
      "\n",
      "    Nodes    |    Current Node    |     Objective Bounds      |     Work\n",
      " Expl Unexpl |  Obj  Depth IntInf | Incumbent    BestBd   Gap | It/Node Time\n",
      "\n",
      "*    0     0               0    2250.0000000 2250.00000  0.00%     -    0s\n",
      "\n",
      "Explored 1 nodes (3 simplex iterations) in 0.04 seconds (0.00 work units)\n",
      "Thread count was 8 (of 8 available processors)\n",
      "\n",
      "Solution count 2: 2250 3050 \n",
      "\n",
      "Optimal solution found (tolerance 1.00e-04)\n",
      "Best objective 2.250000000000e+03, best bound 2.250000000000e+03, gap 0.0000%\n"
     ]
    }
   ],
   "source": [
    "# Solve\n",
    "\n",
    "model.optimize()"
   ]
  },
  {
   "cell_type": "code",
   "execution_count": 7,
   "id": "a60c69ec-a22f-468e-b82b-8af3616c81c3",
   "metadata": {},
   "outputs": [
    {
     "name": "stdout",
     "output_type": "stream",
     "text": [
      "x[1,1] = -0.0\n",
      "x[1,2] = 350.0\n",
      "x[1,3] = 150.0\n",
      "x[2,1] = 350.0\n",
      "x[2,2] = -0.0\n",
      "x[2,3] = -0.0\n"
     ]
    }
   ],
   "source": [
    "for s in Supplier:\n",
    "    for r in Retailer:\n",
    "        print(f\"x[{s},{r}] = {x[s, r].x}\")"
   ]
  },
  {
   "cell_type": "code",
   "execution_count": null,
   "id": "2800bda1-e322-4ad7-85e0-88a99bd7ab35",
   "metadata": {},
   "outputs": [],
   "source": []
  }
 ],
 "metadata": {
  "kernelspec": {
   "display_name": "Python [conda env:base] *",
   "language": "python",
   "name": "conda-base-py"
  },
  "language_info": {
   "codemirror_mode": {
    "name": "ipython",
    "version": 3
   },
   "file_extension": ".py",
   "mimetype": "text/x-python",
   "name": "python",
   "nbconvert_exporter": "python",
   "pygments_lexer": "ipython3",
   "version": "3.11.11"
  }
 },
 "nbformat": 4,
 "nbformat_minor": 5
}
